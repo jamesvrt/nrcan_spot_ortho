{
 "cells": [
  {
   "cell_type": "markdown",
   "id": "71bda798",
   "metadata": {},
   "source": [
    "# Tutorial: Working with this stactools subpackage\n",
    "\n",
    "Stactools ([docs](https://stactools.readthedocs.io/en/latest/), [source](https://github.com/stac-utils/stactools)) is a command line tool and library for working with [STAC](https://stacspec.org/), based on [PySTAC](https://github.com/stac-utils/pystac).\n",
    "\n",
    "[Stactools dataset packages](https://github.com/stactools-packages) are add-ons for stactools that provide STAC functionality for specific datasets, such as [Sentinel 2](https://github.com/stactools-packages/sentinel2) and [Landsat](https://github.com/stactools-packages/landsat).\n",
    "\n",
    "Stactools and its dataset packages can be accessed from the CLI or from within normal Python code. This notebook provides examples of both."
   ]
  },
  {
   "cell_type": "markdown",
   "id": "9725319d",
   "metadata": {},
   "source": [
    "## 1. Using this notebook\n",
    "\n",
    "The easiest way to use this notebook is to run it through `scripts/notebook`. This will create a Docker container already set up with the prerequisites and open the stactools dataset folder. Navigate to `docs/` to find this notebook.\n",
    "\n",
    "If you wish to use this notebook outside of the container (such as on mybinder.org) then please install the prerequisites using:"
   ]
  },
  {
   "cell_type": "code",
   "execution_count": null,
   "id": "92c1995f",
   "metadata": {},
   "outputs": [],
   "source": [
    "!pip install stactools-nrcan-spot-ortho"
   ]
  },
  {
   "cell_type": "markdown",
   "id": "0d908f7a",
   "metadata": {},
   "source": [
    "## 2. Using the stactools dataset package from the CLI"
   ]
  },
  {
   "cell_type": "markdown",
   "id": "ccc036aa",
   "metadata": {},
   "source": [
    "The first thing we can do is check that the `stac` CLI tool is installed and explore the options. Notice the inclusion of the command for this dataset package in stactools now."
   ]
  },
  {
   "cell_type": "code",
   "execution_count": 32,
   "id": "effef8be",
   "metadata": {},
   "outputs": [
    {
     "name": "stdout",
     "output_type": "stream",
     "text": [
      "Usage: stac [OPTIONS] COMMAND [ARGS]...\r\n",
      "\r\n",
      "Options:\r\n",
      "  -v, --verbose  Use verbose mode\r\n",
      "  -q, --quiet    Use quiet mode (no output)\r\n",
      "  --help         Show this message and exit.\r\n",
      "\r\n",
      "Commands:\r\n",
      "  copy              Copy a STAC Catalog\r\n",
      "  describe          Prints out a list of all catalogs, collections and items\r\n",
      "                    in this STAC.\r\n",
      "\r\n",
      "  info              Display info about a static STAC catalog.\r\n",
      "  layout            Reformat the layout of a STAC based on templating.\r\n",
      "  merge             Merge items from one STAC into another.\r\n",
      "  move-assets       Move or copy assets in a STAC to the Item locations.\r\n",
      "  nrcan-spot-ortho  Commands for ortho SPOT 4 and 5 data over Canada.\r\n",
      "  validate          Validate a stac object.\r\n",
      "  version           Display version info.\r\n"
     ]
    }
   ],
   "source": [
    "!stac"
   ]
  },
  {
   "cell_type": "markdown",
   "id": "973c3b6c",
   "metadata": {},
   "source": [
    "You can now explore the STAC dataset package commands to ingest and describe the data"
   ]
  },
  {
   "cell_type": "code",
   "execution_count": 2,
   "id": "a73aca7d",
   "metadata": {},
   "outputs": [
    {
     "name": "stdout",
     "output_type": "stream",
     "text": [
      "Usage: stac spot [OPTIONS] COMMAND [ARGS]...\r\n",
      "\r\n",
      "Options:\r\n",
      "  --help  Show this message and exit.\r\n",
      "\r\n",
      "Commands:\r\n",
      "  cogify-assets  Convert geotiff assets into cloud optimized geotiffs.\r\n",
      "  convert-index  Convert ortho SPOT 4 and 5 index shapefile to STAC catalog.\r\n"
     ]
    }
   ],
   "source": [
    "!stac nrcan-spot-ortho --help"
   ]
  },
  {
   "cell_type": "markdown",
   "id": "b327d95e",
   "metadata": {},
   "source": [
    "And more specific help with an individual command:"
   ]
  },
  {
   "cell_type": "code",
   "execution_count": 31,
   "id": "d63a9654",
   "metadata": {},
   "outputs": [
    {
     "name": "stdout",
     "output_type": "stream",
     "text": [
      "Usage: stac nrcan-spot-ortho convert-index [OPTIONS] INDEX ROOT_HREF\r\n",
      "\r\n",
      "  Converts the SPOT Index shapefile to a STAC Catalog.\r\n",
      "\r\n",
      "Options:\r\n",
      "  -t, --test                      Run as a test. Doesn't require Geobase FTP\r\n",
      "                                  access.\r\n",
      "\r\n",
      "  -c, --catalog-type [ABSOLUTE_PUBLISHED|RELATIVE_PUBLISHED|SELF_CONTAINED]\r\n",
      "  --help                          Show this message and exit.\r\n"
     ]
    }
   ],
   "source": [
    "!stac nrcan-spot-ortho convert-index --help"
   ]
  },
  {
   "cell_type": "markdown",
   "id": "608ef9ef",
   "metadata": {},
   "source": [
    "Download and unzip the [Geobase Index shapefile](http://ftp.maps.canada.ca/pub/nrcan_rncan/image/spot/geobase_orthoimages/index/GeoBase_Orthoimage_Index.zip) before converting it to the STAC:"
   ]
  },
  {
   "cell_type": "code",
   "execution_count": 22,
   "id": "bf2b36f0",
   "metadata": {},
   "outputs": [
    {
     "name": "stdout",
     "output_type": "stream",
     "text": [
      "--2021-08-16 14:32:09--  http://ftp.maps.canada.ca/pub/nrcan_rncan/image/spot/geobase_orthoimages/index/GeoBase_Orthoimage_Index.zip\n",
      "Resolving ftp.maps.canada.ca (ftp.maps.canada.ca)... 15.222.205.109\n",
      "Connecting to ftp.maps.canada.ca (ftp.maps.canada.ca)|15.222.205.109|:80... connected.\n",
      "HTTP request sent, awaiting response... 301 Moved Permanently\n",
      "Location: https://ftp.maps.canada.ca/pub/nrcan_rncan/image/spot/geobase_orthoimages/index/GeoBase_Orthoimage_Index.zip [following]\n",
      "--2021-08-16 14:32:09--  https://ftp.maps.canada.ca/pub/nrcan_rncan/image/spot/geobase_orthoimages/index/GeoBase_Orthoimage_Index.zip\n",
      "Connecting to ftp.maps.canada.ca (ftp.maps.canada.ca)|15.222.205.109|:443... connected.\n",
      "HTTP request sent, awaiting response... 200 OK\n",
      "Length: 665095 (650K) [application/zip]\n",
      "Saving to: ‘GeoBase_Orthoimage_Index.zip’\n",
      "\n",
      "GeoBase_Orthoimage_ 100%[===================>] 649.51K  1.71MB/s    in 0.4s    \n",
      "\n",
      "2021-08-16 14:32:10 (1.71 MB/s) - ‘GeoBase_Orthoimage_Index.zip’ saved [665095/665095]\n",
      "\n",
      "Archive:  GeoBase_Orthoimage_Index.zip\n",
      "  inflating: GeoBase_Orthoimage_Index.shp  \n",
      "  inflating: GeoBase_Orthoimage_Index.shx  \n",
      "  inflating: GeoBase_Orthoimage_Index.dbf  \n",
      "  inflating: GeoBase_Orthoimage_Index.prj  \n"
     ]
    }
   ],
   "source": [
    "!wget http://ftp.maps.canada.ca/pub/nrcan_rncan/image/spot/geobase_orthoimages/index/GeoBase_Orthoimage_Index.zip\n",
    "!unzip GeoBase_Orthoimage_Index.zip"
   ]
  },
  {
   "cell_type": "markdown",
   "id": "79854bfc",
   "metadata": {},
   "source": [
    "Now convert the index to a STAC (this will take several minutes - there are around 5000 entries)"
   ]
  },
  {
   "cell_type": "code",
   "execution_count": 38,
   "id": "fb171f5f",
   "metadata": {},
   "outputs": [
    {
     "name": "stdout",
     "output_type": "stream",
     "text": [
      "Connecting to Geobase FTP, attempt 1/10\n",
      "1... S5_09537_5435_20070531\n",
      "2... S5_09018_5147_20060830\n",
      "3... S5_11913_6124_20060612\n",
      "4... S5_09544_4857_20060904\n",
      "5... S5_11055_6057_20070622\n",
      "^C\n",
      "\n",
      "Aborted!\n"
     ]
    }
   ],
   "source": [
    "!stac nrcan-spot-ortho convert-index GeoBase_Orthoimage_Index.shp \"path/to/root/\""
   ]
  },
  {
   "cell_type": "code",
   "execution_count": null,
   "id": "f27a9ee8",
   "metadata": {},
   "outputs": [],
   "source": [
    "!stac nrcan-spot-ortho cogify-assets \"path/to/root/catalog.json\""
   ]
  },
  {
   "cell_type": "markdown",
   "id": "9688cfbf",
   "metadata": {},
   "source": [
    "## 3. Using the stactools dataset package from within Python code"
   ]
  },
  {
   "cell_type": "markdown",
   "id": "9c550530",
   "metadata": {},
   "source": [
    "So far we've used Jupyter Notebooks' IPython [line magic](https://ipython.readthedocs.io/en/stable/interactive/magics.html) to work with stactools packages on the command line, but it's also possible to use them within Python scripts."
   ]
  },
  {
   "cell_type": "code",
   "execution_count": 47,
   "id": "53d3cca3",
   "metadata": {},
   "outputs": [],
   "source": [
    "from stactools.nrcan_spot_ortho.stac import build_items\n",
    "from stactools.nrcan_spot_ortho.stac_templates import build_root_catalog\n",
    "from stactools.nrcan_spot_ortho.cog import cogify_catalog\n",
    "from pystac import CatalogType\n",
    "\n",
    "root_href = \".\"\n",
    "index = \"GeoBase_Orthoimage_Index.shp\"\n",
    "catalog_path = \"path/to/root/catalog.json\""
   ]
  },
  {
   "cell_type": "code",
   "execution_count": null,
   "id": "cd3dde8f",
   "metadata": {},
   "outputs": [],
   "source": [
    "# Create a root catalog and collections for each sensor\n",
    "spot_catalog = build_root_catalog()\n",
    "spot_catalog.normalize_hrefs(root_href)"
   ]
  },
  {
   "cell_type": "code",
   "execution_count": null,
   "id": "d9027807",
   "metadata": {},
   "outputs": [],
   "source": [
    "# Populate the catalog with items\n",
    "build_items(\n",
    "    index_geom=index, \n",
    "    spot_catalog=spot_catalog, \n",
    "    test=False, \n",
    "    root_href=root_href, \n",
    "    catalog_type=CatalogType.ABSOLUTE_PUBLISHED)\n",
    "spot_catalog.normalize_and_save(root_href, CatalogType.ABSOLUTE_PUBLISHED)"
   ]
  },
  {
   "cell_type": "code",
   "execution_count": null,
   "id": "536a9505",
   "metadata": {},
   "outputs": [],
   "source": [
    "# Download, unzip and convert geotiffs to cloud optimized geotiffs\n",
    "# Save these within the catalog\n",
    "cogify_catalog(catalog_path)"
   ]
  },
  {
   "cell_type": "code",
   "execution_count": null,
   "id": "dd6ec1b5",
   "metadata": {},
   "outputs": [],
   "source": []
  }
 ],
 "metadata": {
  "interpreter": {
   "hash": "c2bee1ab741e827a7e677add16aa73fb04c1c623305731aa61866545d78e2921"
  },
  "kernelspec": {
   "display_name": "Python 3 (ipykernel)",
   "language": "python",
   "name": "python3"
  },
  "language_info": {
   "codemirror_mode": {
    "name": "ipython",
    "version": 3
   },
   "file_extension": ".py",
   "mimetype": "text/x-python",
   "name": "python",
   "nbconvert_exporter": "python",
   "pygments_lexer": "ipython3",
   "version": "3.9.6"
  }
 },
 "nbformat": 4,
 "nbformat_minor": 5
}
